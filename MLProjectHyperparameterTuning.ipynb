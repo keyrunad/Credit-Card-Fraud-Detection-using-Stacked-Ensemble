{
 "cells": [
  {
   "cell_type": "code",
   "execution_count": null,
   "metadata": {
    "_cell_guid": "b1076dfc-b9ad-4769-8c92-a6c4dae69d19",
    "_uuid": "8f2839f25d086af736a60e9eeb907d3b93b6e0e5"
   },
   "outputs": [],
   "source": [
    "import numpy as np\n",
    "import pandas as pd\n",
    "\n",
    "from sklearn.neighbors import KNeighborsClassifier\n",
    "from sklearn.ensemble import RandomForestClassifier\n",
    "from xgboost import XGBClassifier\n",
    "from sklearn.linear_model import LogisticRegression\n",
    "\n",
    "from sklearn.model_selection import KFold\n",
    "from sklearn.model_selection import train_test_split\n",
    "from sklearn.model_selection import RandomizedSearchCV, GridSearchCV\n",
    "\n",
    "from sklearn.metrics import precision_score\n",
    "from sklearn.metrics import f1_score\n",
    "from sklearn.metrics import confusion_matrix"
   ]
  },
  {
   "cell_type": "markdown",
   "metadata": {
    "_cell_guid": "79c7e3d0-c299-4dcb-8224-4455121ee9b0",
    "_uuid": "d629ff2d2480ee46fbb7e2d37f6b5fab8052498a",
    "collapsed": true
   },
   "source": [
    "**Importing CSV file**"
   ]
  },
  {
   "cell_type": "code",
   "execution_count": null,
   "metadata": {
    "_uuid": "5815b1803e10ef42dbdd11d2a2debcf278cd5c4e"
   },
   "outputs": [],
   "source": [
    "fname = '../input/creditcard.csv'\n",
    "df = pd.read_csv(fname)"
   ]
  },
  {
   "cell_type": "markdown",
   "metadata": {
    "_uuid": "b103ea462dddaa74eeb0a98846daaeeb562b152f"
   },
   "source": [
    "**Converting dataframe to array and splitting into training and test datasets**"
   ]
  },
  {
   "cell_type": "code",
   "execution_count": null,
   "metadata": {
    "_uuid": "45d12cc3e34335861e8c05765abe9da5e521a994"
   },
   "outputs": [],
   "source": [
    "features = np.array(df.columns[:-1])\n",
    "data = df.values\n",
    "X = data[: , :-1]\n",
    "y = data[: , -1]\n",
    "X_train, X_test, y_train, y_test = train_test_split(X, y, test_size = 0.33, random_state = 42)"
   ]
  },
  {
   "cell_type": "markdown",
   "metadata": {
    "_uuid": "ecc373ec62e6abe1f494509335464c9266892d9f"
   },
   "source": [
    "**Hypterparameters to tune base models using GridSearchedCV/RandomizedSearchedCV**"
   ]
  },
  {
   "cell_type": "code",
   "execution_count": null,
   "metadata": {
    "_uuid": "3039e928a46486c7e2b8b3db14bed5b402259921"
   },
   "outputs": [],
   "source": [
    "params_knn = { \n",
    "    'n_neighbors': range(1, 32, 1)\n",
    " }\n",
    "params_rf = { \n",
    "    'n_estimators': [50, 100, 200, 500, 800],\n",
    "    'max_features': ['auto', 'sqrt', 'log2'],\n",
    "    'max_depth' : [5, 8, 15, 25, 30, None],\n",
    "    'min_samples_leaf' : [0.1, 2, 5, 10],\n",
    "    'min_samples_split': [0.1, 2, 5, 10, 15, 100],\n",
    "    'random_state': [42]\n",
    " }\n",
    "params_xgb = {\n",
    "    'learning_rate': [0.01, 0.025, 0.05, 0.1],\n",
    "    'n_estimators': [50, 210, 500, 1000],\n",
    "    'max_depth': [3, 5, 7, 9, 12, 15, 17, 25],\n",
    "    'gamma': [0.08, 0.1, 0.5, 0.8, 1.0],\n",
    "    'subsample': [0.6, 0.8, 1.0],\n",
    "    'colsample_bytree': [0.6, 0.8, 1.0],\n",
    "    'random_state': [42]\n",
    "}\n",
    "params_lr = {\n",
    "    'penalty': ['l1', 'l2'],\n",
    "    'C': [0.08, 0.09, 0.1, 0.11, 0.12],\n",
    "    'random_state': [78]\n",
    "}"
   ]
  },
  {
   "cell_type": "code",
   "execution_count": null,
   "metadata": {
    "_uuid": "4d241b1c2b4dbe7f681a8375b16f4ae865d19757"
   },
   "outputs": [],
   "source": [
    "kf = KFold(n_splits = 5)"
   ]
  },
  {
   "cell_type": "markdown",
   "metadata": {},
   "source": [
    "**KNN Hyperparameter tuning using GridSearchCV with 5-fold**"
   ]
  },
  {
   "cell_type": "code",
   "execution_count": null,
   "metadata": {
    "_uuid": "da41aa795baf49bb109047626b82ed83bffa2926"
   },
   "outputs": [],
   "source": [
    "clf_knn = KNeighborsClassifier()"
   ]
  },
  {
   "cell_type": "code",
   "execution_count": null,
   "metadata": {
    "_uuid": "254d9eca624df00cd55f489c9091dc1f1126b5d1"
   },
   "outputs": [],
   "source": [
    "grid_knn = GridSearchCV(clf_knn, params_knn, scoring = 'f1', cv=kf) "
   ]
  },
  {
   "cell_type": "code",
   "execution_count": null,
   "metadata": {
    "_uuid": "62e05881cd692544cf83f98efa5ef0a3cfa15d9e",
    "scrolled": true
   },
   "outputs": [],
   "source": [
    "grid_knn.fit(X_train, y_train)"
   ]
  },
  {
   "cell_type": "code",
   "execution_count": null,
   "metadata": {
    "_uuid": "10c80aca58a389252ae9f652288f7e664b919e44"
   },
   "outputs": [],
   "source": [
    "print('KNN Best estimator:')\n",
    "print(grid_knn.best_estimator_)\n",
    "print('KNN Best score:')\n",
    "print(grid_knn.best_score_ )"
   ]
  },
  {
   "cell_type": "markdown",
   "metadata": {
    "_uuid": "05b8db4ef3067eff5dce6c23c843e969d42d84d8"
   },
   "source": [
    "**RandomForestClassifier Hyperparameter tuning using RandomizedSearchCV with 5-fold**"
   ]
  },
  {
   "cell_type": "code",
   "execution_count": null,
   "metadata": {
    "_uuid": "3dae3d72931a52c911b29a6e44b2c175ec92a14d"
   },
   "outputs": [],
   "source": [
    "clf_rf = RandomForestClassifier()"
   ]
  },
  {
   "cell_type": "code",
   "execution_count": null,
   "metadata": {
    "_uuid": "3084f9e8fb54e59ce0db2220bedc1485e3dcdfb3"
   },
   "outputs": [],
   "source": [
    "rand_rf = RandomizedSearchCV(clf_rf, params_rf, scoring = 'f1', cv=kf) "
   ]
  },
  {
   "cell_type": "code",
   "execution_count": null,
   "metadata": {
    "_uuid": "5a43ba7a64f46eacda3202c32048bb07bd94e354",
    "scrolled": true
   },
   "outputs": [],
   "source": [
    "rand_rf.fit(X_train, y_train)"
   ]
  },
  {
   "cell_type": "code",
   "execution_count": null,
   "metadata": {
    "_uuid": "b154c8a83c0a594bda22a90aa8e8cbc4b98f9764"
   },
   "outputs": [],
   "source": [
    "print('RandomForest Best estimator:')\n",
    "print(rand_rf.best_estimator_)\n",
    "print('RandomForest Best score:')\n",
    "print(rand_rf.best_score_ )"
   ]
  },
  {
   "cell_type": "markdown",
   "metadata": {
    "_uuid": "d230d3059b8e8bf706cbf1ac5e838417717aa7eb"
   },
   "source": [
    "**XGB Hyperparameter tuning using RandomizedSearchCV with 5-fold**"
   ]
  },
  {
   "cell_type": "code",
   "execution_count": null,
   "metadata": {
    "_uuid": "9b2f58652dea37411717d16df089c8dc6d075e30"
   },
   "outputs": [],
   "source": [
    "clf_xgb = XGBClassifier()"
   ]
  },
  {
   "cell_type": "code",
   "execution_count": null,
   "metadata": {
    "_uuid": "4ff3f2f0ef7cf17590e59fa5c103ce4001688ffe"
   },
   "outputs": [],
   "source": [
    "rand_xgb = RandomizedSearchCV(clf_xgb, params_xgb, scoring = 'f1', cv=kf) "
   ]
  },
  {
   "cell_type": "code",
   "execution_count": null,
   "metadata": {
    "_uuid": "7df16f53efddf14e14cc9fa7f5727b60d0b277d4",
    "scrolled": true
   },
   "outputs": [],
   "source": [
    "rand_xgb.fit(X_train, y_train)"
   ]
  },
  {
   "cell_type": "code",
   "execution_count": null,
   "metadata": {
    "_uuid": "13a45a0e2cecdabf026ac754e698faaffbfb38c8"
   },
   "outputs": [],
   "source": [
    "print('XGB Best estimator:')\n",
    "print(rand_xgb.best_estimator_)\n",
    "print('XGB Best score:')\n",
    "print(rand_xgb.best_score_ )"
   ]
  },
  {
   "cell_type": "markdown",
   "metadata": {
    "_uuid": "e052685d528318d59c713f5bc4c0176b90ba5fef"
   },
   "source": [
    "**Logistic Regression Hyperparameter tuning using RandomizedSearchCV with 5-fold**"
   ]
  },
  {
   "cell_type": "code",
   "execution_count": null,
   "metadata": {
    "_uuid": "3b22ba0676875e78843e41a135d2f94603738f43"
   },
   "outputs": [],
   "source": [
    "clf_lr = LogisticRegression()"
   ]
  },
  {
   "cell_type": "code",
   "execution_count": null,
   "metadata": {
    "_uuid": "f86a3797e602ea2da109562ce9119c82c9150772"
   },
   "outputs": [],
   "source": [
    "rand_lr = RandomizedSearchCV(clf_lr, params_lr, scoring = 'f1', cv=kf)"
   ]
  },
  {
   "cell_type": "code",
   "execution_count": null,
   "metadata": {
    "_uuid": "bbf35cc9f5af82f01852a188c225044add625e81"
   },
   "outputs": [],
   "source": [
    "rand_lr.fit(X_train, y_train)"
   ]
  },
  {
   "cell_type": "code",
   "execution_count": null,
   "metadata": {
    "_uuid": "58d3c6c9d855d4ecf2a930fc066adc80f92fc6e5"
   },
   "outputs": [],
   "source": [
    "print('LR Best estimator:')\n",
    "print(rand_lr.best_estimator_)\n",
    "print('LR Best score:')\n",
    "print(rand_lr.best_score_ )"
   ]
  }
 ],
 "metadata": {
  "kernelspec": {
   "display_name": "Python 3",
   "language": "python",
   "name": "python3"
  },
  "language_info": {
   "codemirror_mode": {
    "name": "ipython",
    "version": 3
   },
   "file_extension": ".py",
   "mimetype": "text/x-python",
   "name": "python",
   "nbconvert_exporter": "python",
   "pygments_lexer": "ipython3",
   "version": "3.6.6"
  }
 },
 "nbformat": 4,
 "nbformat_minor": 1
}
