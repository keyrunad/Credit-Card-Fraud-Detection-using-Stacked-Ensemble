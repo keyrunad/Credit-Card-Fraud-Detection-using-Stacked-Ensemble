{
 "cells": [
  {
   "cell_type": "code",
   "execution_count": 1,
   "metadata": {
    "_cell_guid": "b1076dfc-b9ad-4769-8c92-a6c4dae69d19",
    "_uuid": "8f2839f25d086af736a60e9eeb907d3b93b6e0e5"
   },
   "outputs": [],
   "source": [
    "import numpy as np\n",
    "import pandas as pd\n",
    "\n",
    "from sklearn.neighbors import KNeighborsClassifier\n",
    "from sklearn.ensemble import RandomForestClassifier\n",
    "from xgboost import XGBClassifier\n",
    "from sklearn.linear_model import LogisticRegression\n",
    "\n",
    "from sklearn.model_selection import KFold\n",
    "from sklearn.model_selection import train_test_split\n",
    "from sklearn.model_selection import RandomizedSearchCV, GridSearchCV\n",
    "from sklearn.tree import DecisionTreeClassifier\n",
    "\n",
    "from sklearn.metrics import precision_score\n",
    "from sklearn.metrics import f1_score\n",
    "from sklearn.metrics import recall_score\n",
    "from sklearn.metrics import confusion_matrix"
   ]
  },
  {
   "cell_type": "markdown",
   "metadata": {
    "_uuid": "3d69b110c71b6aa74205d7f3532563f93b4500e7"
   },
   "source": [
    "#### Importing csv file"
   ]
  },
  {
   "cell_type": "code",
   "execution_count": 3,
   "metadata": {
    "_uuid": "7b037f7259be543811b86db709de1d7a4571efc2"
   },
   "outputs": [],
   "source": [
    "fname = \"../input/creditcard.csv\"\n",
    "df = pd.read_csv(fname)"
   ]
  },
  {
   "cell_type": "markdown",
   "metadata": {
    "_uuid": "42caf2b5d4cbd9905cf6f6763aeec11afafb5be7"
   },
   "source": [
    "**Converting dataframe to array and splitting into training and test datasets**"
   ]
  },
  {
   "cell_type": "code",
   "execution_count": 4,
   "metadata": {
    "_cell_guid": "79c7e3d0-c299-4dcb-8224-4455121ee9b0",
    "_uuid": "d629ff2d2480ee46fbb7e2d37f6b5fab8052498a",
    "scrolled": false
   },
   "outputs": [],
   "source": [
    "features = np.array(df.columns[:-1])\n",
    "label = np.array(df.columns[-1])\n",
    "data = df.values\n",
    "X = data[: , :-1]\n",
    "y = data[: , -1]\n",
    "X_train, X_test, y_train, y_test = train_test_split(X, y, test_size = 0.33, random_state = 42)"
   ]
  },
  {
   "cell_type": "code",
   "execution_count": 5,
   "metadata": {
    "_uuid": "1e4b1dfce245ca3e8fb048c40187492fecd12ba6"
   },
   "outputs": [],
   "source": [
    "kf = KFold(n_splits = 5)"
   ]
  },
  {
   "cell_type": "markdown",
   "metadata": {
    "_uuid": "77f7e737118fc52ad1df99e118005071ec81f173"
   },
   "source": [
    "**ENSEMBLE START**"
   ]
  },
  {
   "cell_type": "code",
   "execution_count": null,
   "metadata": {},
   "outputs": [],
   "source": [
    "# function to display scores for classifier clf, with training data x_tr, y_tr and test data\n",
    "# x_te, y_te\n",
    "def scores(clf, x_tr, y_tr, x_te, y_te):\n",
    "    clf.fit(x_tr, y_tr)\n",
    "    pred = clf.predict(x_te)\n",
    "    print('Precision:',precision_score(y_te, pred))\n",
    "    print('Recall:',recall_score(y_te, pred))\n",
    "    print('F1:',f1_score(y_te, pred))\n",
    "    print('Confusion Matrix (tn, fp, fn, tp):',confusion_matrix(y_te, pred).ravel())"
   ]
  },
  {
   "cell_type": "code",
   "execution_count": 8,
   "metadata": {
    "_uuid": "af74d273ccc5dadb5a6d8b93c8c051a795662c83"
   },
   "outputs": [],
   "source": [
    "# function to return metafeatures for classifier clf, data x, labels y with kf k-fold \n",
    "def get_metafeatures(clf, x, y, kf):\n",
    "    meta_feat = np.zeros((len(x),))\n",
    "    for train_index, test_index in kf.split(x, y):\n",
    "        X_tr, X_te = x[train_index], x[test_index]\n",
    "        y_tr, y_te = y[train_index], y[test_index]\n",
    "        clf.fit(X_tr, y_tr)\n",
    "        y_pred = clf.predict(X_te)\n",
    "        meta_feat[test_index] = y_pred\n",
    "    return meta_feat.reshape(-1, 1)"
   ]
  },
  {
   "cell_type": "code",
   "execution_count": 9,
   "metadata": {
    "_uuid": "7789edd73464c032c9ed35b22de16be2ca43aec4",
    "scrolled": false
   },
   "outputs": [
    {
     "name": "stdout",
     "output_type": "stream",
     "text": [
      "Precision: 0.4838709677419355\n",
      "Recall: 0.20134228187919462\n",
      "F1: 0.28436018957345977\n",
      "Confusion Matrix (tn, fp, fn, tp): [93806    32   119    30]\n"
     ]
    }
   ],
   "source": [
    "# best KNN classifier after hyperparameter tuning based on F1 score\n",
    "b_knn = KNeighborsClassifier(algorithm='auto', leaf_size=30, metric='minkowski',\n",
    "           metric_params=None, n_jobs=1, n_neighbors=1, p=2,\n",
    "           weights='uniform')\n",
    "pred_train_knn = get_metafeatures(b_knn, X_train, y_train, kf)\n",
    "pred_test_knn = get_metafeatures(b_knn, X_test, y_test, kf)\n",
    "scores(b_knn, X_train, y_train, X_test, y_test)"
   ]
  },
  {
   "cell_type": "markdown",
   "metadata": {
    "_uuid": "87d0a815432ec09495312022849e45236ff3ca0e"
   },
   "source": [
    "**KNN Scores**\n",
    "* Precision: 0.4838709677419355\n",
    "* Recall: 0.20134228187919462\n",
    "* F1: 0.28436018957345977\n",
    "* Confusion Matrix (tn, fp, fn, tp): [93806    32   119    30]"
   ]
  },
  {
   "cell_type": "code",
   "execution_count": 10,
   "metadata": {
    "_uuid": "1481f1311247897f8ba3fcd4b0f3a9c868155cfc",
    "scrolled": true
   },
   "outputs": [
    {
     "name": "stdout",
     "output_type": "stream",
     "text": [
      "Precision: 0.9426229508196722\n",
      "Recall: 0.7718120805369127\n",
      "F1: 0.8487084870848709\n",
      "Confusion Matrix (tn, fp, fn, tp): [93831     7    34   115]\n"
     ]
    }
   ],
   "source": [
    "# best RF classifier after hyperparameter tuning based on F1 score\n",
    "b_rf = RandomForestClassifier(bootstrap=True, class_weight=None, criterion='gini',\n",
    "            max_depth=8, max_features='auto', max_leaf_nodes=None,\n",
    "            min_impurity_decrease=0.0, min_impurity_split=None,\n",
    "            min_samples_leaf=2, min_samples_split=5,\n",
    "            min_weight_fraction_leaf=0.0, n_estimators=50, n_jobs=1,\n",
    "            oob_score=False, random_state=42, verbose=0,\n",
    "            warm_start=False) \n",
    "pred_train_rf = get_metafeatures(b_rf, X_train, y_train, kf) \n",
    "pred_test_rf = get_metafeatures(b_rf, X_test, y_test, kf)\n",
    "scores(b_rf, X_train, y_train, X_test, y_test)\n"
   ]
  },
  {
   "cell_type": "markdown",
   "metadata": {
    "_uuid": "ef0e878e5e5652acff69470dcd7f2d7ca2f8be47"
   },
   "source": [
    "**RF Scores**\n",
    "* Precision: 0.9426229508196722\n",
    "* Recall: 0.7718120805369127\n",
    "* F1: 0.8487084870848709\n",
    "* Confusion Matrix (tn, fp, fn, tp): [93831     7    34   115]"
   ]
  },
  {
   "cell_type": "code",
   "execution_count": 11,
   "metadata": {
    "_uuid": "dc33d7a8b74f2e941d424c546b7e30d817dc916d",
    "scrolled": true
   },
   "outputs": [
    {
     "name": "stdout",
     "output_type": "stream",
     "text": [
      "Precision: 0.953125\n",
      "Recall: 0.8187919463087249\n",
      "F1: 0.8808664259927798\n",
      "Confusion Matrix (tn, fp, fn, tp): [93832     6    27   122]\n"
     ]
    }
   ],
   "source": [
    "# best XGB classifier after hyperparameter tuning based on F1 score\n",
    "b_xgb = XGBClassifier(base_score=0.5, booster='gbtree', colsample_bylevel=1,\n",
    "       colsample_bytree=1, gamma=0, learning_rate=0.1, max_delta_step=0,\n",
    "       max_depth=3, min_child_weight=1, missing=None, n_estimators=210,\n",
    "       n_jobs=1, nthread=None, objective='binary:logistic', random_state=42,\n",
    "       reg_alpha=0, reg_lambda=1, scale_pos_weight=1, seed=None,\n",
    "       silent=True, subsample=1)\n",
    "pred_train_xgb = get_metafeatures(b_xgb, X_train, y_train, kf)\n",
    "pred_test_xgb = get_metafeatures(b_xgb, X_test, y_test, kf)\n",
    "scores(b_xgb, X_train, y_train, X_test, y_test)"
   ]
  },
  {
   "cell_type": "markdown",
   "metadata": {
    "_uuid": "15600637f1265f49f9a6a998eeb7e7691a8f3b3f"
   },
   "source": [
    "**XGB Scores**\n",
    "* Precision: 0.953125\n",
    "* Recall: 0.8187919463087249\n",
    "* F1: 0.8808664259927798\n",
    "* Confusion Matrix (tn, fp, fn, tp): [93832     6    27   122]"
   ]
  },
  {
   "cell_type": "code",
   "execution_count": 12,
   "metadata": {
    "_uuid": "814b0b9b921aaa03025a178f9534043264bde89e"
   },
   "outputs": [
    {
     "name": "stdout",
     "output_type": "stream",
     "text": [
      "Precision: 0.8761904761904762\n",
      "Recall: 0.6174496644295302\n",
      "F1: 0.7244094488188977\n",
      "Confusion Matrix (tn, fp, fn, tp): [93825    13    57    92]\n"
     ]
    }
   ],
   "source": [
    "# best LR classifier after hyperparameter tuning based on F1 score\n",
    "b_lr = LogisticRegression(C=0.11, class_weight=None, dual=False, fit_intercept=True,\n",
    "          intercept_scaling=1, max_iter=100, multi_class='ovr', n_jobs=1,\n",
    "          penalty='l1', random_state=78, solver='liblinear', tol=0.0001,\n",
    "          verbose=0, warm_start=False)\n",
    "pred_train_lr = get_metafeatures(b_lr, X_train, y_train, kf)\n",
    "pred_test_lr = get_metafeatures(b_lr, X_test, y_test, kf)\n",
    "scores(b_lr, X_train, y_train, X_test, y_test)\n"
   ]
  },
  {
   "cell_type": "markdown",
   "metadata": {
    "_uuid": "5982185edc651f56536e2ba34fef23bc0cca0b4f"
   },
   "source": [
    "**LR Scores**\n",
    "* Precision: 0.8761904761904762\n",
    "* Recall: 0.6174496644295302\n",
    "* F1: 0.7244094488188977\n",
    "* Confusion Matrix (tn, fp, fn, tp): [93825    13    57    92]"
   ]
  },
  {
   "cell_type": "markdown",
   "metadata": {},
   "source": [
    "**Appending predictions from base classes to original set of features**"
   ]
  },
  {
   "cell_type": "code",
   "execution_count": 13,
   "metadata": {
    "_uuid": "4bf0775302785913a2701699581e03cca3f9866b"
   },
   "outputs": [
    {
     "name": "stdout",
     "output_type": "stream",
     "text": [
      "(190820, 31) (93987, 31)\n"
     ]
    }
   ],
   "source": [
    "X_train = np.hstack((X_train, pred_train_knn))\n",
    "X_test = np.hstack((X_test, pred_test_knn))\n",
    "print(np.shape(X_train), np.shape(X_test))"
   ]
  },
  {
   "cell_type": "code",
   "execution_count": 14,
   "metadata": {
    "_uuid": "876386244aa258112b67b7c6e3fd1616b2e66246"
   },
   "outputs": [
    {
     "name": "stdout",
     "output_type": "stream",
     "text": [
      "(190820, 32) (93987, 32)\n"
     ]
    }
   ],
   "source": [
    "X_train = np.hstack((X_train, pred_train_rf))\n",
    "X_test = np.hstack((X_test, pred_test_rf))\n",
    "print(np.shape(X_train), np.shape(X_test))"
   ]
  },
  {
   "cell_type": "code",
   "execution_count": 15,
   "metadata": {
    "_uuid": "eca549afe051c058dc67eef4e4127abf3b010fc6"
   },
   "outputs": [
    {
     "name": "stdout",
     "output_type": "stream",
     "text": [
      "(190820, 33) (93987, 33)\n"
     ]
    }
   ],
   "source": [
    "X_train = np.hstack((X_train, pred_train_xgb))\n",
    "X_test = np.hstack((X_test, pred_test_xgb))\n",
    "print(np.shape(X_train), np.shape(X_test))"
   ]
  },
  {
   "cell_type": "code",
   "execution_count": 16,
   "metadata": {
    "_uuid": "593f5f3f81591c773cd72c1ea817a423e0e7ff2f"
   },
   "outputs": [
    {
     "name": "stdout",
     "output_type": "stream",
     "text": [
      "(190820, 34) (93987, 34)\n"
     ]
    }
   ],
   "source": [
    "X_train = np.hstack((X_train, pred_train_lr))\n",
    "X_test = np.hstack((X_test, pred_test_lr))\n",
    "print(np.shape(X_train), np.shape(X_test))"
   ]
  },
  {
   "cell_type": "markdown",
   "metadata": {},
   "source": [
    "**Running Ensemble XGB model with stacked features**"
   ]
  },
  {
   "cell_type": "code",
   "execution_count": null,
   "metadata": {
    "_uuid": "5e967ba7de86d164d9b4852ad1fefff26cc7cdb9"
   },
   "outputs": [],
   "source": [
    "ens_xgb = XGBClassifier(base_score=0.5, booster='gbtree', colsample_bylevel=1,\n",
    "       colsample_bytree=1, gamma=0, learning_rate=0.1, max_delta_step=0,\n",
    "       max_depth=3, min_child_weight=1, missing=None, n_estimators=210,\n",
    "       n_jobs=1, nthread=None, objective='binary:logistic', random_state=42,\n",
    "       reg_alpha=0, reg_lambda=1, scale_pos_weight=1, seed=None,\n",
    "       silent=True, subsample=1)\n",
    "scores(ens_xgb, X_train, y_train, X_test, y_test)"
   ]
  },
  {
   "cell_type": "markdown",
   "metadata": {
    "_uuid": "b9ca038a1d3e529a7f47a8c5397b4fd031504371"
   },
   "source": [
    "**Stacked Ensemble XGB Scores**\n",
    "* Precision: 0.9461538461538461\n",
    "* Recall: 0.825503355704698\n",
    "* F1: 0.881720430107527\n",
    "* Confusion Matrix (tn, fp, fn, tp): [93831     7    26   123]\n"
   ]
  }
 ],
 "metadata": {
  "kernelspec": {
   "display_name": "Python 3",
   "language": "python",
   "name": "python3"
  },
  "language_info": {
   "codemirror_mode": {
    "name": "ipython",
    "version": 3
   },
   "file_extension": ".py",
   "mimetype": "text/x-python",
   "name": "python",
   "nbconvert_exporter": "python",
   "pygments_lexer": "ipython3",
   "version": "3.6.6"
  }
 },
 "nbformat": 4,
 "nbformat_minor": 1
}
